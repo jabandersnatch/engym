{
 "cells": [
  {
   "cell_type": "code",
   "execution_count": 6,
   "metadata": {},
   "outputs": [
    {
     "data": {
      "text/plain": [
       "113097.33552923256"
      ]
     },
     "execution_count": 6,
     "metadata": {},
     "output_type": "execute_result"
    }
   ],
   "source": [
    "import numpy as np\n",
    "\n",
    "def calculate_minimum_force(r_bar, s_y):\n",
    "    \"\"\"\n",
    "    Calculate the minimum force that the bar must have to yield.\n",
    "    \"\"\"\n",
    "    n_stress = s_y\n",
    "    t_force = n_stress * r_bar ** 2 * np.pi \n",
    "    return t_force\n",
    "\n",
    "calculate_minimum_force(0.012, 250e6)\n"
   ]
  }
 ],
 "metadata": {
  "interpreter": {
   "hash": "913258e50a63c6130d46651a3897e3fa348a06ec8e4acc8b7108c934b403a9fd"
  },
  "kernelspec": {
   "display_name": "Python 3.10.2 ('.venv': venv)",
   "language": "python",
   "name": "python3"
  },
  "language_info": {
   "codemirror_mode": {
    "name": "ipython",
    "version": 3
   },
   "file_extension": ".py",
   "mimetype": "text/x-python",
   "name": "python",
   "nbconvert_exporter": "python",
   "pygments_lexer": "ipython3",
   "version": "3.10.2"
  },
  "orig_nbformat": 4
 },
 "nbformat": 4,
 "nbformat_minor": 2
}
