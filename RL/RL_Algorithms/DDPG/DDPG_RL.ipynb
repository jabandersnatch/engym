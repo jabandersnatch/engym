{
 "cells": [
  {
   "cell_type": "markdown",
   "metadata": {},
   "source": [
    "# DDPG Reinforcement Learning"
   ]
  },
  {
   "cell_type": "code",
   "execution_count": 81,
   "metadata": {},
   "outputs": [],
   "source": [
    "# Import the dependencies for the agent\n",
    "\n",
    "from keras.layers import Dense, Input, Concatenate\n",
    "from keras.models import Model\n",
    "from keras.optimizers import adam_v2\n",
    "try: from ...environment.custom_environment import StackedBarsEnv\n",
    "except: from RL.environment.custom_environment import StackedBarsEnv\n",
    "import numpy as np\n",
    "import tensorflow as tf\n",
    "import matplotlib.pyplot as plt\n"
   ]
  },
  {
   "cell_type": "markdown",
   "metadata": {},
   "source": [
    "In this notebook, we will train a DDPG agent to play the custom environment [StackedBarsEnv](nothing) using the [DDPG algorithm](https://arxiv.org/abs/1509.02971)."
   ]
  },
  {
   "cell_type": "code",
   "execution_count": 82,
   "metadata": {},
   "outputs": [
    {
     "name": "stdout",
     "output_type": "stream",
     "text": [
      "The size of state space is: 4\n",
      "The size of action space is: 2\n",
      "The max value of the action is: [0.1 0.1]\n",
      "The min value of the action is: [0.01 0.01]\n"
     ]
    }
   ],
   "source": [
    "env = StackedBarsEnv()\n",
    "\n",
    "num_states = env.observation_space.shape[0]\n",
    "\n",
    "num_actions = env.action_space.shape[0]\n",
    "\n",
    "upper_bound = env.action_space.high\n",
    "lower_bound = env.action_space.low\n",
    "\n",
    "print('The size of state space is: {}'.format(num_states))\n",
    "print('The size of action space is: {}'.format(num_actions))\n",
    "print('The max value of the action is: {}'.format(upper_bound))\n",
    "print('The min value of the action is: {}'.format(lower_bound))\n"
   ]
  },
  {
   "cell_type": "markdown",
   "metadata": {},
   "source": [
    "In order for making the actor a better explorer we are going to implement the **Ornstein-Uhlenbeck process** for generating noise."
   ]
  },
  {
   "cell_type": "code",
   "execution_count": 83,
   "metadata": {},
   "outputs": [],
   "source": [
    "class OUActionNoise(object):\n",
    "    def __init__(self, mean, std_deviation, theta=.15, dt=1e-3, x_initial=None):\n",
    "        self.theta = theta\n",
    "        self.mean = mean\n",
    "        self.std_deviation = std_deviation\n",
    "        self.dt = dt\n",
    "        self.x_initial = x_initial\n",
    "        self.reset()\n",
    "    \n",
    "    def __call__(self):\n",
    "        # Formula taken from https://www.doc.ic.ac.uk/~erik/\n",
    "        x = (\n",
    "            self.x_prev +\n",
    "            (self.theta * (self.mean - self.x_prev) * self.dt) +\n",
    "            (self.std_deviation * np.sqrt(self.dt) * np.random.normal(size=self.mean.shape))\n",
    "        )\n",
    "\n",
    "        self.x_prev = x\n",
    "        return x\n",
    "    \n",
    "    def reset(self):\n",
    "        if self.x_initial is not None:\n",
    "            self.x_prev = self.x_initial\n",
    "        else:\n",
    "            self.x_prev = np.zeros_like(self.mean)"
   ]
  },
  {
   "cell_type": "markdown",
   "metadata": {},
   "source": [
    "Now we will implement the DDPG algorithm. That is described in the following image:"
   ]
  },
  {
   "cell_type": "markdown",
   "metadata": {},
   "source": [
    "![DPPG process](DDPG_ALG.png)))\n"
   ]
  },
  {
   "cell_type": "code",
   "execution_count": 84,
   "metadata": {},
   "outputs": [],
   "source": [
    "class Buffer:\n",
    "    def __init__(self, buffer_capacity=50000, batch_size=64):\n",
    "        # Number of \"experiences\" to store at max\n",
    "        self.buffer_capacity = buffer_capacity\n",
    "        # Num of tuples to train on.\n",
    "        self.batch_size = batch_size\n",
    "\n",
    "        # Its tells us num of times record() was called.\n",
    "        self.buffer_counter = 0\n",
    "\n",
    "        # Instead of list of tuples as the exp.replay concept go\n",
    "        # We use different np.arrays for each tuple element\n",
    "        self.state_buffer = np.zeros((self.buffer_capacity, num_states))\n",
    "        self.action_buffer = np.zeros((self.buffer_capacity, num_actions))\n",
    "        self.reward_buffer = np.zeros((self.buffer_capacity, 1))\n",
    "        self.next_state_buffer = np.zeros((self.buffer_capacity, num_states))\n",
    "\n",
    "    # Takes (s,a,r,s') obervation tuple as input\n",
    "    def record(self, obs_tuple):\n",
    "        # Set index to zero if buffer_capacity is exceeded,\n",
    "        # replacing old records\n",
    "        index = self.buffer_counter % self.buffer_capacity\n",
    "        \n",
    "        self.state_buffer[index] = obs_tuple[0]\n",
    "        self.action_buffer[index] = obs_tuple[1][0]\n",
    "        self.reward_buffer[index] = obs_tuple[2]\n",
    "        self.next_state_buffer[index] = obs_tuple[3]\n",
    "\n",
    "        self.buffer_counter += 1\n",
    "\n",
    "    # Eager execution is turned on by default in TensorFlow 2. Decorating with tf.function allows\n",
    "    # TensorFlow to build a static graph out of the logic and computations in our function.\n",
    "    # This provides a large speed up for blocks of code that contain many small TensorFlow operations such as this one.\n",
    "    @tf.function\n",
    "    def update(\n",
    "        self, state_batch, action_batch, reward_batch, next_state_batch,\n",
    "    ):\n",
    "        # Training and updating Actor & Critic networks.\n",
    "        # See Pseudo Code.\n",
    "        with tf.GradientTape() as tape:\n",
    "            target_actions = target_actor(next_state_batch, training=True)\n",
    "            y = reward_batch + gamma * target_critic(\n",
    "                [next_state_batch, target_actions], training=True\n",
    "            )\n",
    "            critic_value = critic_model([state_batch, action_batch], training=True)\n",
    "            critic_loss = tf.math.reduce_mean(tf.math.square(y - critic_value))\n",
    "\n",
    "        critic_grad = tape.gradient(critic_loss, critic_model.trainable_variables)\n",
    "        critic_optimizer.apply_gradients(\n",
    "            zip(critic_grad, critic_model.trainable_variables)\n",
    "        )\n",
    "\n",
    "        with tf.GradientTape() as tape:\n",
    "            actions = actor_model(state_batch, training=True)\n",
    "            critic_value = critic_model([state_batch, actions], training=True)\n",
    "            # Used `-value` as we want to maximize the value given\n",
    "            # by the critic for our actions\n",
    "            actor_loss = -tf.math.reduce_mean(critic_value)\n",
    "\n",
    "        actor_grad = tape.gradient(actor_loss, actor_model.trainable_variables)\n",
    "        actor_optimizer.apply_gradients(\n",
    "            zip(actor_grad, actor_model.trainable_variables)\n",
    "        )\n",
    "\n",
    "    # We compute the loss and update parameters\n",
    "    def learn(self):\n",
    "        # Get sampling range\n",
    "        record_range = min(self.buffer_counter, self.buffer_capacity)\n",
    "        # Randomly sample indices\n",
    "        batch_indices = np.random.choice(record_range, self.batch_size)\n",
    "\n",
    "        # Convert to tensors\n",
    "        state_batch = tf.convert_to_tensor(self.state_buffer[batch_indices])\n",
    "        action_batch = tf.convert_to_tensor(self.action_buffer[batch_indices])\n",
    "        reward_batch = tf.convert_to_tensor(self.reward_buffer[batch_indices])\n",
    "        reward_batch = tf.cast(reward_batch, dtype=tf.float32)\n",
    "        next_state_batch = tf.convert_to_tensor(self.next_state_buffer[batch_indices])\n",
    "\n",
    "        self.update(state_batch, action_batch, reward_batch, next_state_batch)\n",
    "\n",
    "\n",
    "# This update target parameters slowly\n",
    "# Based on rate `tau`, which is much less than one.\n",
    "@tf.function\n",
    "def update_target(target_weights, weights, tau):\n",
    "    for (a, b) in zip(target_weights, weights):\n",
    "        a.assign(b * tau + a * (1 - tau))"
   ]
  },
  {
   "cell_type": "markdown",
   "metadata": {},
   "source": [
    "## Define the actor and critic networks\n"
   ]
  },
  {
   "cell_type": "code",
   "execution_count": 85,
   "metadata": {},
   "outputs": [],
   "source": [
    "\n",
    "def get_actor():\n",
    "    # Initialize weights between -3e-3 and 3-e3\n",
    "    last_init = tf.random_uniform_initializer(minval=-0.001, maxval=0.001)\n",
    "\n",
    "    inputs = Input(shape=(num_states,))\n",
    "    # Add a hidden layer with relu activation\n",
    "    x = Dense(units=64, activation=\"relu\", kernel_initializer=last_init)(inputs)\n",
    "    # Add a hidden layer with relu activation\n",
    "    out = Dense(256, activation=\"relu\")(x)\n",
    "    out = Dense(256, activation=\"relu\")(out)\n",
    "    outputs = Dense(2, activation=\"tanh\", kernel_initializer=last_init)(out)\n",
    "    # Our upper bound is 2.0 for Pendulum.\n",
    "    outputs = outputs * upper_bound\n",
    "    model = Model(inputs, outputs)\n",
    "    return model\n",
    "\n",
    "\n",
    "def get_critic():\n",
    "    # State as input\n",
    "    state_input = Input(shape=(num_states))\n",
    "    state_out = Dense(32, activation=\"relu\")(state_input)\n",
    "    state_out = Dense(32, activation=\"relu\")(state_out)\n",
    "    state_out = Dense(64, activation=\"relu\")(state_out)\n",
    "    # add a hidden layer with relu activation\n",
    "    \n",
    "    # Action as input\n",
    "    action_input = Input(shape=(num_actions))\n",
    "    action_out = Dense(64, activation=\"relu\")(action_input)\n",
    "\n",
    "    # Both are passed through seperate layer before concatenating\n",
    "    concat = Concatenate()([state_out, action_out])\n",
    "\n",
    "    out = Dense(256, activation=\"relu\")(concat)\n",
    "    out = Dense(256, activation=\"relu\")(out)\n",
    "    outputs = Dense(1)(out)\n",
    "\n",
    "    # Outputs single value for give state-action\n",
    "    model = Model([state_input, action_input], outputs)\n",
    "\n",
    "    return model\n"
   ]
  },
  {
   "cell_type": "markdown",
   "metadata": {},
   "source": [
    "# Policy \n"
   ]
  },
  {
   "cell_type": "code",
   "execution_count": 86,
   "metadata": {},
   "outputs": [],
   "source": [
    "def policy(state, noise_object):\n",
    "    sampled_actions = tf.squeeze(actor_model(state))\n",
    "    noise = noise_object()\n",
    "    # Adding noise to action\n",
    "    sampled_actions = sampled_actions.numpy() + noise\n",
    "\n",
    "    # We make sure action is within bounds\n",
    "    legal_action = np.clip(sampled_actions, lower_bound, upper_bound)\n",
    "\n",
    "    \n",
    "    return [np.squeeze(legal_action)]\n",
    "\n",
    "\n"
   ]
  },
  {
   "cell_type": "markdown",
   "metadata": {},
   "source": [
    "# Training hyperparameters"
   ]
  },
  {
   "cell_type": "code",
   "execution_count": 87,
   "metadata": {},
   "outputs": [],
   "source": [
    "std_dev = 0.3\n",
    "ou_noise = OUActionNoise(mean=np.zeros(1), std_deviation=float(std_dev) * np.ones(1))\n",
    "\n",
    "actor_model = get_actor()\n",
    "critic_model = get_critic()\n",
    "\n",
    "target_actor = get_actor()\n",
    "target_critic = get_critic()\n",
    "\n",
    "# Making the weights equal initially\n",
    "target_actor.set_weights(actor_model.get_weights())\n",
    "target_critic.set_weights(critic_model.get_weights())\n",
    "\n",
    "# Learning rate for actor-critic models\n",
    "critic_lr = 0.05\n",
    "actor_lr = 0.004\n",
    "\n",
    "critic_optimizer = adam_v2.Adam(learning_rate=critic_lr)\n",
    "actor_optimizer = adam_v2.Adam(learning_rate=actor_lr)\n",
    "\n",
    "total_episodes =  6000\n",
    "# Discount factor for future rewards\n",
    "gamma = 0.999\n",
    "# Used to update target networks\n",
    "tau = 0.05\n",
    "\n",
    "SHOW_EVERY = 1000\n",
    "\n",
    "buffer = Buffer(50000, 256)\n",
    "\n"
   ]
  },
  {
   "cell_type": "code",
   "execution_count": 88,
   "metadata": {},
   "outputs": [],
   "source": [
    "## Render test\n",
    "env.reset()\n",
    "linspace_r = np.linspace(0.01,0.5, 100)\n",
    "# invert the linspace\n",
    "linspace_h = np.ones(100) * 0.1\n",
    "\n",
    "for i in range(10):\n",
    "    env.step(np.array([linspace_r[i], linspace_h[i]]))\n",
    "env.render(mode='human',n_episode=6666)\n",
    "## Render test"
   ]
  },
  {
   "cell_type": "code",
   "execution_count": 89,
   "metadata": {},
   "outputs": [
    {
     "name": "stdout",
     "output_type": "stream",
     "text": [
      "[array([0.01, 0.01])]\n",
      "The observation tuple shape is: <class 'list'>\n"
     ]
    },
    {
     "ename": "ValueError",
     "evalue": "setting an array element with a sequence. The requested array would exceed the maximum number of dimension of 1.",
     "output_type": "error",
     "traceback": [
      "\u001b[1;31m---------------------------------------------------------------------------\u001b[0m",
      "\u001b[1;31mValueError\u001b[0m                                Traceback (most recent call last)",
      "\u001b[1;32mc:\\Users\\juana\\OneDrive\\Documentos\\Universidad de los Andes\\9 semestre\\Proyecto de grado\\polebuilder\\RL\\RL_Algorithms\\DDPG\\DDPG_RL.ipynb Cell 17'\u001b[0m in \u001b[0;36m<module>\u001b[1;34m\u001b[0m\n\u001b[0;32m     <a href='vscode-notebook-cell:/c%3A/Users/juana/OneDrive/Documentos/Universidad%20de%20los%20Andes/9%20semestre/Proyecto%20de%20grado/polebuilder/RL/RL_Algorithms/DDPG/DDPG_RL.ipynb#ch0000016?line=19'>20</a>\u001b[0m state, reward, done, info \u001b[39m=\u001b[39m env\u001b[39m.\u001b[39mstep(action[\u001b[39m0\u001b[39m])\n\u001b[0;32m     <a href='vscode-notebook-cell:/c%3A/Users/juana/OneDrive/Documentos/Universidad%20de%20los%20Andes/9%20semestre/Proyecto%20de%20grado/polebuilder/RL/RL_Algorithms/DDPG/DDPG_RL.ipynb#ch0000016?line=21'>22</a>\u001b[0m \u001b[39mprint\u001b[39m(action)\n\u001b[1;32m---> <a href='vscode-notebook-cell:/c%3A/Users/juana/OneDrive/Documentos/Universidad%20de%20los%20Andes/9%20semestre/Proyecto%20de%20grado/polebuilder/RL/RL_Algorithms/DDPG/DDPG_RL.ipynb#ch0000016?line=22'>23</a>\u001b[0m buffer\u001b[39m.\u001b[39;49mrecord((prev_state, action, reward, state))\n\u001b[0;32m     <a href='vscode-notebook-cell:/c%3A/Users/juana/OneDrive/Documentos/Universidad%20de%20los%20Andes/9%20semestre/Proyecto%20de%20grado/polebuilder/RL/RL_Algorithms/DDPG/DDPG_RL.ipynb#ch0000016?line=23'>24</a>\u001b[0m episodic_reward \u001b[39m+\u001b[39m\u001b[39m=\u001b[39m reward\n\u001b[0;32m     <a href='vscode-notebook-cell:/c%3A/Users/juana/OneDrive/Documentos/Universidad%20de%20los%20Andes/9%20semestre/Proyecto%20de%20grado/polebuilder/RL/RL_Algorithms/DDPG/DDPG_RL.ipynb#ch0000016?line=25'>26</a>\u001b[0m buffer\u001b[39m.\u001b[39mlearn()\n",
      "\u001b[1;32mc:\\Users\\juana\\OneDrive\\Documentos\\Universidad de los Andes\\9 semestre\\Proyecto de grado\\polebuilder\\RL\\RL_Algorithms\\DDPG\\DDPG_RL.ipynb Cell 9'\u001b[0m in \u001b[0;36mBuffer.record\u001b[1;34m(self, obs_tuple)\u001b[0m\n\u001b[0;32m     <a href='vscode-notebook-cell:/c%3A/Users/juana/OneDrive/Documentos/Universidad%20de%20los%20Andes/9%20semestre/Proyecto%20de%20grado/polebuilder/RL/RL_Algorithms/DDPG/DDPG_RL.ipynb#ch0000008?line=23'>24</a>\u001b[0m \u001b[39mself\u001b[39m\u001b[39m.\u001b[39mstate_buffer[index] \u001b[39m=\u001b[39m obs_tuple[\u001b[39m0\u001b[39m]\n\u001b[0;32m     <a href='vscode-notebook-cell:/c%3A/Users/juana/OneDrive/Documentos/Universidad%20de%20los%20Andes/9%20semestre/Proyecto%20de%20grado/polebuilder/RL/RL_Algorithms/DDPG/DDPG_RL.ipynb#ch0000008?line=24'>25</a>\u001b[0m \u001b[39mprint\u001b[39m(\u001b[39m'\u001b[39m\u001b[39mThe observation tuple shape is: \u001b[39m\u001b[39m{}\u001b[39;00m\u001b[39m'\u001b[39m\u001b[39m.\u001b[39mformat(\u001b[39mtype\u001b[39m(obs_tuple[\u001b[39m1\u001b[39m])))\n\u001b[1;32m---> <a href='vscode-notebook-cell:/c%3A/Users/juana/OneDrive/Documentos/Universidad%20de%20los%20Andes/9%20semestre/Proyecto%20de%20grado/polebuilder/RL/RL_Algorithms/DDPG/DDPG_RL.ipynb#ch0000008?line=25'>26</a>\u001b[0m \u001b[39mself\u001b[39m\u001b[39m.\u001b[39maction_buffer[index] \u001b[39m=\u001b[39m obs_tuple[\u001b[39m1\u001b[39m]\n\u001b[0;32m     <a href='vscode-notebook-cell:/c%3A/Users/juana/OneDrive/Documentos/Universidad%20de%20los%20Andes/9%20semestre/Proyecto%20de%20grado/polebuilder/RL/RL_Algorithms/DDPG/DDPG_RL.ipynb#ch0000008?line=26'>27</a>\u001b[0m \u001b[39mself\u001b[39m\u001b[39m.\u001b[39mreward_buffer[index] \u001b[39m=\u001b[39m obs_tuple[\u001b[39m2\u001b[39m]\n\u001b[0;32m     <a href='vscode-notebook-cell:/c%3A/Users/juana/OneDrive/Documentos/Universidad%20de%20los%20Andes/9%20semestre/Proyecto%20de%20grado/polebuilder/RL/RL_Algorithms/DDPG/DDPG_RL.ipynb#ch0000008?line=27'>28</a>\u001b[0m \u001b[39mself\u001b[39m\u001b[39m.\u001b[39mnext_state_buffer[index] \u001b[39m=\u001b[39m obs_tuple[\u001b[39m3\u001b[39m]\n",
      "\u001b[1;31mValueError\u001b[0m: setting an array element with a sequence. The requested array would exceed the maximum number of dimension of 1."
     ]
    }
   ],
   "source": [
    "# To store reward history of each episode\n",
    "ep_reward_list = []\n",
    "# To store average reward history of last few episodes\n",
    "avg_reward_list = []\n",
    "\n",
    "# Takes about 4 min to train\n",
    "for ep in range(total_episodes):\n",
    "\n",
    "    prev_state = env.reset()\n",
    "    episodic_reward = 0\n",
    "\n",
    "    while True:\n",
    "        # Uncomment this to see the Actor in action\n",
    "        # But not in a python notebook.\n",
    "\n",
    "        tf_prev_state = tf.expand_dims(tf.convert_to_tensor(prev_state), 0)\n",
    "\n",
    "        action = policy(tf_prev_state, ou_noise)\n",
    "        # Recieve state and reward from environment.\n",
    "        state, reward, done, info = env.step(action[0])\n",
    "\n",
    "        print(action)\n",
    "        buffer.record((prev_state, action, reward, state))\n",
    "        episodic_reward += reward\n",
    "\n",
    "        buffer.learn()\n",
    "        update_target(target_actor.variables, actor_model.variables, tau)\n",
    "        update_target(target_critic.variables, critic_model.variables, tau)\n",
    "\n",
    "        # End this episode when `done` is True\n",
    "        if done:\n",
    "            break\n",
    "        \n",
    "\n",
    "        prev_state = state\n",
    "\n",
    "    ep_reward_list.append(episodic_reward)\n",
    "\n",
    "    # Mean of last 40 episodes\n",
    "    \n",
    "    avg_reward = np.mean(ep_reward_list[-50:])\n",
    "    if ep % SHOW_EVERY == 0:\n",
    "        env.render(mode='human',n_episode=ep)\n",
    "        print(\"Episode * {} * Avg Reward is ==> {}\".format(ep, round(avg_reward,5)))\n",
    "    avg_reward_list.append(avg_reward)\n",
    "\n",
    "\n",
    "# Plotting graph\n",
    "# Episodes versus Avg. Rewards\n",
    "plt.plot(avg_reward_list)\n",
    "plt.title('Agent learning throughout the episodes')\n",
    "plt.xlabel(\"Episode\")\n",
    "plt.ylabel(\"Avg. Episode Reward\")\n",
    "plt.show()\n",
    "# save graph\n",
    "plt.savefig('graph.png')\n",
    "# save model\n",
    "actor_model.save_weights(\"polebuilder_actor.h5\")\n",
    "critic_model.save_weights(\"polebuilder_critic.h5\")\n",
    "\n",
    "target_actor.save_weights(\"polebuilder_target_actor.h5\")\n",
    "target_critic.save_weights(\"polebuilder_target_critic.h5\")"
   ]
  }
 ],
 "metadata": {
  "interpreter": {
   "hash": "913258e50a63c6130d46651a3897e3fa348a06ec8e4acc8b7108c934b403a9fd"
  },
  "kernelspec": {
   "display_name": "Python 3.10.1 ('.venv': venv)",
   "language": "python",
   "name": "python3"
  },
  "language_info": {
   "codemirror_mode": {
    "name": "ipython",
    "version": 3
   },
   "file_extension": ".py",
   "mimetype": "text/x-python",
   "name": "python",
   "nbconvert_exporter": "python",
   "pygments_lexer": "ipython3",
   "version": "3.10.2"
  },
  "orig_nbformat": 4
 },
 "nbformat": 4,
 "nbformat_minor": 2
}
